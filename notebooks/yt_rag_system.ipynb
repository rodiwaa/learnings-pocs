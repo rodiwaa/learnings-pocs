{
  "nbformat": 4,
  "nbformat_minor": 0,
  "metadata": {
    "colab": {
      "provenance": [],
      "authorship_tag": "ABX9TyOHC17/s0PEGm6ZqElPI/U1",
      "include_colab_link": true
    },
    "kernelspec": {
      "name": "python3",
      "display_name": "Python 3"
    },
    "language_info": {
      "name": "python"
    }
  },
  "cells": [
    {
      "cell_type": "markdown",
      "metadata": {
        "id": "view-in-github",
        "colab_type": "text"
      },
      "source": [
        "<a href=\"https://colab.research.google.com/github/rodiwaa/learnings-pocs/blob/main/notebooks/yt_rag_system.ipynb\" target=\"_parent\"><img src=\"https://colab.research.google.com/assets/colab-badge.svg\" alt=\"Open In Colab\"/></a>"
      ]
    },
    {
      "cell_type": "markdown",
      "source": [
        "# YT Rag System\n",
        "Learning RAG components from the excellent CampusX Playlist on YT.\n",
        "\n",
        "Scope\n",
        "- RAG\n",
        "  - Doc Loaders\n",
        "  - Text Splitters\n",
        "  - Vector Stores\n",
        "  - Retrievers\n",
        "- Advanced RAG (Future)\n",
        "  - UI (streamlit, chainlit, gradio, react)\n",
        "  - Evaluations\n",
        "    - Ragas (4xmetrics)\n",
        "    - Langsmith (traces, tags)\n",
        "  - Indexing\n",
        "  - Retrieval\n",
        "    - Pre R\n",
        "      - LLM Q Rewrite\n",
        "      - Multi query\n",
        "      - Domain Aware Routing\n",
        "    - During R (search strategy)\n",
        "      - MMR\n",
        "      - Hybrid (Semantic, BM25, Keyword)\n",
        "      - Reranking (algo, LLMs)\n",
        "    - Post R\n",
        "      - contextual compression\n",
        "  - Augmentation\n",
        "    - Prompt templating\n",
        "    - Grounding (use context only, else say IDK)\n",
        "    - Context window optimisation\n",
        "  - Generation\n",
        "    - Citations\n",
        "    - Guardrails\n",
        "  - System Design\n",
        "    - Multimodal\n",
        "    - Agentic (web search, routers)\n",
        "    - Memory based (from last time convos)\n",
        "\n"
      ],
      "metadata": {
        "id": "v8oRec0XJ_w_"
      }
    },
    {
      "cell_type": "code",
      "execution_count": null,
      "metadata": {
        "id": "8qZ6uu9HJsr6",
        "collapsed": true
      },
      "outputs": [],
      "source": [
        "!pip install langchain langgraph langsmith langchain.community wikipedia langchain_openai chromadb python-dotenv"
      ]
    },
    {
      "cell_type": "markdown",
      "source": [
        "## Ingestion Module"
      ],
      "metadata": {
        "id": "SvoE9ub2Kudb"
      }
    },
    {
      "cell_type": "code",
      "source": [
        "from google.colab import drive\n",
        "from dotenv import load_dotenv\n",
        "import os\n",
        "\n",
        "MOUNT_PATH=\"/content/drive\"\n",
        "# drive.mount(MOUNT_PATH, force_remount=True) # when .env is updated\n",
        "drive.mount(MOUNT_PATH)\n",
        "\n",
        "ENV_PATH=f\"{MOUNT_PATH}/MyDrive/Projects/.env/.env\"\n",
        "print(ENV_PATH)\n",
        "\n",
        "load_dotenv(dotenv_path=ENV_PATH)\n",
        "\n",
        "# FIXME: get creds, API KEYS from external .env\n",
        "# fetch .env from gdrive\n",
        "# dotenv the .env\n"
      ],
      "metadata": {
        "id": "8npT2ycOKQgm"
      },
      "execution_count": null,
      "outputs": []
    },
    {
      "cell_type": "code",
      "source": [
        "from langchain_core.documents import Document\n",
        "\n",
        "# custom docs\n",
        "all_docs = [\n",
        "    Document(page_content=\"Regular walking boosts heart health and can reduce symptoms of depression.\", metadata={\"source\": \"H1\"}),\n",
        "    Document(page_content=\"Consuming leafy greens and fruits helps detox the body and improve longevity.\", metadata={\"source\": \"H2\"}),\n",
        "    Document(page_content=\"Deep sleep is crucial for cellular repair and emotional regulation.\", metadata={\"source\": \"H3\"}),\n",
        "    Document(page_content=\"Mindfulness and controlled breathing lower cortisol and improve mental clarity.\", metadata={\"source\": \"H4\"}),\n",
        "    Document(page_content=\"Drinking sufficient water throughout the day helps maintain metabolism and energy.\", metadata={\"source\": \"H5\"}),\n",
        "    Document(page_content=\"The solar energy system in modern homes helps balance electricity demand.\", metadata={\"source\": \"I1\"}),\n",
        "    Document(page_content=\"Python balances readability with power, making it a popular system design language.\", metadata={\"source\": \"I2\"}),\n",
        "    Document(page_content=\"Photosynthesis enables plants to produce energy by converting sunlight.\", metadata={\"source\": \"I3\"}),\n",
        "    Document(page_content=\"The 2022 FIFA World Cup was held in Qatar and drew global energy and excitement.\", metadata={\"source\": \"I4\"}),\n",
        "    Document(page_content=\"Black holes bend spacetime and store immense gravitational energy.\", metadata={\"source\": \"I5\"}),\n",
        "]\n",
        "print(f\"{len(all_docs)} docs added\")"
      ],
      "metadata": {
        "id": "rHOtcvprQrjj"
      },
      "execution_count": null,
      "outputs": []
    },
    {
      "cell_type": "markdown",
      "source": [
        "## Create Vector Store W Documents"
      ],
      "metadata": {
        "id": "jV8sHi9vovqS"
      }
    },
    {
      "cell_type": "code",
      "source": [
        "# from langchain_community.vectorstores import FAISS\n",
        "from langchain_community.vectorstores import Chroma\n",
        "from langchain_openai import OpenAIEmbeddings\n",
        "\n",
        "embedding_model = OpenAIEmbeddings()\n",
        "\n",
        "vectorstore = Chroma.from_documents(\n",
        "    documents = all_docs,\n",
        "    embedding = embedding_model,\n",
        "    collection_name = \"temp-documents\"\n",
        ")\n",
        "print(\"vs created\")"
      ],
      "metadata": {
        "id": "IUIItmlcVZ1B"
      },
      "execution_count": null,
      "outputs": []
    },
    {
      "cell_type": "markdown",
      "source": [
        "# Retrievers"
      ],
      "metadata": {
        "id": "lRx6IMeMhdnt"
      }
    },
    {
      "cell_type": "code",
      "source": [
        "from langchain.retrievers import ContextualCompressionRetriever\n",
        "from langchain.retrievers.document_compressors import LLMChainExtractor\n",
        "from langchain_openai import ChatOpenAI\n",
        "\n",
        "retriever_basic = vectorstore.as_retriever(\n",
        "    search_type=\"mmr\",\n",
        "    # search_kwargs={\"kwargs\" : 1}\n",
        "    k=2\n",
        ")\n",
        "print(\"retriever_basic created\")\n",
        "\n",
        "retriever_mmr = vectorstore.as_retriever(\n",
        "    # search_type=\"mmr\",\n",
        "    # search_kwargs={\"kwargs\" : 1}\n",
        ")\n",
        "print(\"retriever_mmr created\")\n",
        "\n",
        "\n",
        "llm = ChatOpenAI(model=\"gpt-3.5-turbo\")\n",
        "base_retriever = vectorstore.as_retriever(\n",
        "    k=2\n",
        ")\n",
        "\n",
        "base_compressor = LLMChainExtractor.from_llm(llm=llm)\n",
        "\n",
        "retriever_compress = ContextualCompressionRetriever(\n",
        "    base_retriever = retriever_mmr,\n",
        "    base_compressor = base_compressor\n",
        ")\n",
        "\n"
      ],
      "metadata": {
        "id": "-ubNf6yvYCtq"
      },
      "execution_count": null,
      "outputs": []
    },
    {
      "cell_type": "markdown",
      "source": [
        "### Execute Rs and get docs"
      ],
      "metadata": {
        "id": "ZUdDhM2ypH-_"
      }
    },
    {
      "cell_type": "code",
      "source": [
        "# test vector store retrieval\n",
        "\n",
        "query = \"how to boost heart health\"\n",
        "docs_basic = retriever_basic.invoke(query)\n",
        "docs_mmr = retriever_mmr.invoke(query)\n",
        "docs_compress = retriever_compress.invoke(query)\n",
        "\n",
        "print(f\"\\ndocs_basic\")\n",
        "print(\"*\"*20)\n",
        "\n",
        "for doc in docs_basic:\n",
        "  print(doc.page_content)\n",
        "\n",
        "print(f\"\\ndocs_compress\")\n",
        "print(\"*\"*20)\n",
        "for doc in docs_compress:\n",
        "  print(doc.page_content)\n",
        "\n",
        "print(f\"\\ndocs_mmr\")\n",
        "print(\"*\"*20)\n",
        "\n",
        "for doc in docs_mmr:\n",
        "  print(doc.page_content)\n",
        "\n",
        "# FIXME: better search needed, this is printing all docs"
      ],
      "metadata": {
        "id": "g82ThIzTZWif"
      },
      "execution_count": null,
      "outputs": []
    }
  ]
}