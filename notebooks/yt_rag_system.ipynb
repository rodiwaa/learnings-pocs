{
  "nbformat": 4,
  "nbformat_minor": 0,
  "metadata": {
    "colab": {
      "provenance": [],
      "authorship_tag": "ABX9TyNvzcvaGAQ7eIlNz8UgsdH9",
      "include_colab_link": true
    },
    "kernelspec": {
      "name": "python3",
      "display_name": "Python 3"
    },
    "language_info": {
      "name": "python"
    }
  },
  "cells": [
    {
      "cell_type": "markdown",
      "metadata": {
        "id": "view-in-github",
        "colab_type": "text"
      },
      "source": [
        "<a href=\"https://colab.research.google.com/github/rodiwaa/learnings-pocs/blob/main/notebooks/yt_rag_system.ipynb\" target=\"_parent\"><img src=\"https://colab.research.google.com/assets/colab-badge.svg\" alt=\"Open In Colab\"/></a>"
      ]
    },
    {
      "cell_type": "markdown",
      "source": [
        "# YT Rag System\n",
        "Learning RAG components from the excellent CampusX Playlist on YT.\n",
        "\n",
        "Scope\n",
        "- RAG\n",
        "  - Doc Loaders\n",
        "  - Text Splitters\n",
        "  - Vector Stores\n",
        "  - Retrievers\n",
        "- Advanced RAG (Future)\n",
        "  - UI (streamlit, chainlit, gradio, react)\n",
        "  - Evaluations\n",
        "    - Ragas (4xmetrics)\n",
        "    - Langsmith (traces, tags)\n",
        "  - Indexing\n",
        "  - Retrieval\n",
        "    - Pre R\n",
        "      - LLM Q Rewrite\n",
        "      - Multi query\n",
        "      - Domain Aware Routing\n",
        "    - During R (search strategy)\n",
        "      - MMR\n",
        "      - Hybrid (Semantic, BM25, Keyword)\n",
        "      - Reranking (algo, LLMs)\n",
        "    - Post R\n",
        "      - contextual compression\n",
        "  - Augmentation\n",
        "    - Prompt templating\n",
        "    - Grounding (use context only, else say IDK)\n",
        "    - Context window optimisation\n",
        "  - Generation\n",
        "    - Citations\n",
        "    - Guardrails\n",
        "  - System Design\n",
        "    - Multimodal\n",
        "    - Agentic (web search, routers)\n",
        "    - Memory based (from last time convos)\n",
        "\n"
      ],
      "metadata": {
        "id": "v8oRec0XJ_w_"
      }
    },
    {
      "cell_type": "code",
      "execution_count": null,
      "metadata": {
        "id": "8qZ6uu9HJsr6",
        "collapsed": true
      },
      "outputs": [],
      "source": [
        "!pip install langchain langgraph langsmith langchain.community wikipedia langchain_openai chromadb python-dotenv"
      ]
    },
    {
      "cell_type": "markdown",
      "source": [
        "## Ingestion Module"
      ],
      "metadata": {
        "id": "SvoE9ub2Kudb"
      }
    },
    {
      "cell_type": "code",
      "source": [
        "from google.colab import drive\n",
        "from dotenv import load_dotenv\n",
        "import os\n",
        "\n",
        "MOUNT_PATH=\"/content/drive\"\n",
        "drive.mount(MOUNT_PATH, force_remount=True)\n",
        "\n",
        "ENV_PATH=f\"{MOUNT_PATH}/MyDrive/Projects/.env/.env\"\n",
        "print(ENV_PATH)\n",
        "\n",
        "load_dotenv(dotenv_path=ENV_PATH)\n",
        "\n",
        "# FIXME: get creds, API KEYS from external .env\n",
        "# fetch .env from gdrive\n",
        "# dotenv the .env\n"
      ],
      "metadata": {
        "id": "8npT2ycOKQgm"
      },
      "execution_count": null,
      "outputs": []
    },
    {
      "cell_type": "code",
      "source": [
        "from langchain_core.documents import Document\n",
        "\n",
        "# custom docs\n",
        "docs = [\n",
        "    Document(page_content=\"Rohit is software engineer\"),\n",
        "    Document(page_content=\"Rohit is AI engineer\"),\n",
        "    Document(page_content=\"Rohit is data engineer\"),\n",
        "    Document(page_content=\"Rohit is an astronaut\")\n",
        "]\n",
        "print(f\"{len(docs)} docs added\")"
      ],
      "metadata": {
        "id": "rHOtcvprQrjj"
      },
      "execution_count": null,
      "outputs": []
    },
    {
      "cell_type": "code",
      "source": [
        "# from langchain_community.vectorstores import FAISS\n",
        "from langchain_community.vectorstores import Chroma\n",
        "from langchain_openai import OpenAIEmbeddings\n",
        "\n",
        "embedding_model = OpenAIEmbeddings()\n",
        "\n",
        "vectorstore = Chroma.from_documents(\n",
        "    documents = docs,\n",
        "    embedding = embedding_model,\n",
        "    collection_name = \"temp-documents\"\n",
        ")\n",
        "print(\"vs created\")"
      ],
      "metadata": {
        "id": "IUIItmlcVZ1B"
      },
      "execution_count": null,
      "outputs": []
    },
    {
      "cell_type": "code",
      "source": [
        "# retriave documents from VS\n",
        "\n",
        "retriever = vectorstore.as_retriever(\n",
        "    search_type=\"mmr\",\n",
        "    kwargs=2\n",
        ")\n",
        "print(\"retriever created 2\")\n",
        "\n",
        "vectorstore.add_documents([Document(page_content=\"Scott is an astronaut\", id=1234)])\n",
        "print(\"new doc added\")"
      ],
      "metadata": {
        "id": "-ubNf6yvYCtq"
      },
      "execution_count": null,
      "outputs": []
    },
    {
      "cell_type": "code",
      "source": [
        "# test vector store retrieval\n",
        "\n",
        "query = \"who all are astronauts?\"\n",
        "docs = retriever.invoke(query)\n",
        "\n",
        "for doc in docs:\n",
        "  print(doc.page_content)\n",
        "# FIXME: better search needed, this is printing all docs"
      ],
      "metadata": {
        "id": "g82ThIzTZWif"
      },
      "execution_count": null,
      "outputs": []
    },
    {
      "cell_type": "markdown",
      "source": [
        "# Retrievers"
      ],
      "metadata": {
        "id": "lRx6IMeMhdnt"
      }
    },
    {
      "cell_type": "code",
      "source": [
        "from langchain_community.retrievers import WikipediaRetriever\n",
        "\n",
        "retriever = WikipediaRetriever(top_k_results=2, lang=\"en\")\n",
        "query = \"2024 IPL\"\n",
        "docs = retriever.invoke(query)\n",
        "len(docs)\n",
        "docs\n",
        "\n",
        "# for i, doc in enumerate(docs):\n",
        "#   print(doc.page_content)"
      ],
      "metadata": {
        "id": "4ufaOsLrPsqb",
        "collapsed": true
      },
      "execution_count": null,
      "outputs": []
    },
    {
      "cell_type": "code",
      "source": [],
      "metadata": {
        "id": "g3J4Ci_wPv5U"
      },
      "execution_count": null,
      "outputs": []
    }
  ]
}